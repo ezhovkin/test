{
 "cells": [
  {
   "cell_type": "markdown",
   "id": "e796066d-9b5a-45d8-90a6-2a76b505dec3",
   "metadata": {},
   "source": [
    "## Домашнее задание 4 (часть 1. Линейная алгебра)\n",
    "## OTUS: Basic ML"
   ]
  },
  {
   "cell_type": "markdown",
   "id": "b0cac24d-7b59-4439-8460-f63cd27cee3b",
   "metadata": {},
   "source": [
    "## Модуль 4. Теоретический минимум для ML: линейная алгебра,\n",
    "## начала мат.анализа и оптимизации."
   ]
  },
  {
   "cell_type": "markdown",
   "id": "2fada920-fd19-4bbe-a3d6-94c37182fcf9",
   "metadata": {},
   "source": [
    "### 1 Линейная алгебра"
   ]
  },
  {
   "cell_type": "markdown",
   "id": "39d9c2b0-79a1-4a91-9a98-6b839f212ae2",
   "metadata": {},
   "source": [
    "#### 1. \n",
    "Даны матрицы:\n",
    "\n",
    "$$\n",
    "A =\n",
    "\\begin{pmatrix}\n",
    "2 & -4 \\\\\n",
    "3 & 5 \\\\\n",
    "-1 & 0\n",
    "\\end{pmatrix},\n",
    "B =\n",
    "\\begin{pmatrix}\n",
    "1 & 2 & 7 \\\\\n",
    "-3 & -4 & 0 \\\\\n",
    "5 & 2 & 1\n",
    "\\end{pmatrix},\n",
    "C =\n",
    "\\begin{pmatrix}\n",
    "6 & -3 & 9 \\\\\n",
    "4 & -5 & 2 \\\\\n",
    "8 & 1 & 5\n",
    "\\end{pmatrix}.\n",
    "$$\n",
    "\n",
    "Посчитайте матрицу: $$  D = A^\\top C - 2A^\\top B^\\top  $$ \n",
    "\n",
    "Приведите полную последовательность вычислений.\n"
   ]
  },
  {
   "cell_type": "markdown",
   "id": "de806ca5-c81d-44b5-bb66-c21a7c50b009",
   "metadata": {},
   "source": [
    "<div style=\"background-color: #cef7d9; padding: 10px;\"><h4>Решение: </h4></div>"
   ]
  },
  {
   "cell_type": "markdown",
   "id": "75f82e42-3789-4155-86df-13795ba7704f",
   "metadata": {},
   "source": [
    "\n",
    "Упростим выражение:\n",
    "$  D = A^\\top C - 2A^\\top B^\\top = A^\\top(С - 2B^\\top)  $ \n",
    "<br><br>\n",
    "Посчитаем:\n",
    "<br>\n",
    "$ A^\\top = \\begin{pmatrix} 2 & 3 & -1 \\\\ -4 & 5 & 0 \\end{pmatrix} $, $ B^\\top = \\begin{pmatrix} 1 & -3 & 5 \\\\ 2 & -4 & 2 \\\\ 7 & 0 & 1 \\end{pmatrix} $\n",
    "<br><br>\n",
    "$ 2B^\\top = 2 \\cdot \\begin{pmatrix} 1 & -3 & 5 \\\\ 2 & -4 & 2 \\\\ 7 & 0 & 1 \\end{pmatrix} = \\begin{pmatrix} 2*1 & 2*(-3) & 2*5 \\\\ 2*2 & 2*(-4) & 2*2 \\\\ 2*7 & 2*0 & 2*1 \\end{pmatrix} = \\begin{pmatrix} 2 & -6 & 10 \\\\ 4 & -8 & 4 \\\\ 14 & 0 & 2 \\end{pmatrix} $\n",
    "<br><br>\n",
    "$ D = A^\\top(С - 2B^\\top) = \\begin{pmatrix} 2 & 3 & -1 \\\\ -4 & 5 & 0 \\end{pmatrix} \\cdot (\n",
    "\\begin{pmatrix}\n",
    "6 & -3 & 9 \\\\ \n",
    "4 & -5 & 2 \\\\ \n",
    "8 & 1 & 5\n",
    "\\end{pmatrix} - \n",
    "\\begin{pmatrix}\n",
    "2 & -6 & 10 \\\\  \n",
    "4 & -8 & 4 \\\\ \n",
    "14 & 0 & 2 \n",
    "\\end{pmatrix} ) = \n",
    "$\n",
    "<br><br>\n",
    "$\n",
    "=\n",
    "\\begin{pmatrix} 2 & 3 & -1 \\\\ -4 & 5 & 0 \\end{pmatrix} \\cdot\n",
    "\\begin{pmatrix}\n",
    "6-2 & -3-(-6) & 9-10 \\\\ \n",
    "4-4 & -5-(-8) & 2-4 \\\\ \n",
    "8-14 & 1-0 & 5-2\n",
    "\\end{pmatrix} = \n",
    "$ \n",
    "<br><br>\n",
    "$\n",
    "=\n",
    "\\begin{pmatrix} 2 & 3 & -1 \\\\ -4 & 5 & 0 \\end{pmatrix} \\cdot\n",
    "\\begin{pmatrix}\n",
    "4 & 3 & -1 \\\\ \n",
    "0 & 3 & -2 \\\\ \n",
    "-6 & 1 & 3\n",
    "\\end{pmatrix} = \n",
    "$ \n",
    "<br><br>\n",
    "$\n",
    "=\n",
    "\\begin{pmatrix} \n",
    "2*4 + 3*0 + -1*(-6) & 2*3 + 3*3 + (-1)*1 & 2*(-1) + 3*(-2) + (-1)*3 \\\\ \n",
    "(-4)*4 + 5*0 + 0*(-6) & (-4)*3 + 5*3 + 0*1 & (-4)*(-1) + 5*(-2) + 0*3 \n",
    "\\end{pmatrix} = \n",
    "$ \n",
    "<br><br>\n",
    "$\n",
    "=\n",
    "\\begin{pmatrix}\n",
    "14 & 14 & -11 \\\\ \n",
    "-16 & 3 & -6 \n",
    "\\end{pmatrix}\n",
    "$\n",
    "\n",
    "<br>"
   ]
  },
  {
   "cell_type": "markdown",
   "id": "da0c066d-e362-4eb9-834b-146f32d2fa86",
   "metadata": {},
   "source": [
    "<div style=\"background-color: #cef7d9; padding: 10px;\"><h4>Задание 1.1 Ответ: </h4>\n",
    "$\n",
    "D =\n",
    "\\begin{pmatrix}\n",
    "14 & 14 & -11 \\\\ \n",
    "-16 & 3 & -6 \n",
    "\\end{pmatrix}\n",
    "$\n",
    "</div>"
   ]
  },
  {
   "cell_type": "markdown",
   "id": "171bafb7-7440-4630-9ce7-19b0b2f8ae5e",
   "metadata": {},
   "source": [
    "#### 2. \n",
    "Дано выражение:\n",
    "\n",
    "$$\n",
    "3 \\cdot \\begin{pmatrix}\n",
    "x & 2 & 3 \\\\\n",
    "-1 & y & 4\n",
    "\\end{pmatrix}\n",
    "+ 2 \\cdot \\begin{pmatrix}\n",
    "1 & 2 & -5 \\\\\n",
    "2 & -6 & z\n",
    "\\end{pmatrix}\n",
    "=\n",
    "\\begin{pmatrix}\n",
    "8 & v & -1 \\\\\n",
    "1 & 6 & 4\n",
    "\\end{pmatrix}.\n",
    "$$\n",
    "\n",
    "Найдите значения \\( x \\), \\( y \\), \\( z \\) и \\( v \\), при которых выражение верно.\n"
   ]
  },
  {
   "cell_type": "markdown",
   "id": "8aa1bdb3-bca5-4a55-94d9-dc1871b1e709",
   "metadata": {},
   "source": [
    "<div style=\"background-color: #cef7d9; padding: 10px;\"><h4>Решение: </h4></div>"
   ]
  },
  {
   "cell_type": "markdown",
   "id": "d97e2100-a209-4d90-b6d7-a99034301646",
   "metadata": {},
   "source": [
    "$\n",
    "3 \\cdot \\begin{pmatrix}\n",
    "x & 2 & 3 \\\\\n",
    "-1 & y & 4\n",
    "\\end{pmatrix}\n",
    "+ 2 \\cdot \\begin{pmatrix}\n",
    "1 & 2 & -5 \\\\\n",
    "2 & -6 & z\n",
    "\\end{pmatrix}\n",
    "=\n",
    "\\begin{pmatrix}\n",
    "8 & v & -1 \\\\\n",
    "1 & 6 & 4\n",
    "\\end{pmatrix}\n",
    "$\n",
    "  \n",
    "$\n",
    "\\begin{pmatrix}\n",
    "3x & 3 \\cdot 2 & 3 \\cdot 3 \\\\\n",
    "3 \\cdot (-1) & 3y & 3 \\cdot 4\n",
    "\\end{pmatrix}\n",
    "+ \\begin{pmatrix}\n",
    "2 \\cdot 1 & 2 \\cdot 2 & 2 \\cdot (-5) \\\\\n",
    "2 \\cdot 2 & 2 \\cdot (-6) & 2z\n",
    "\\end{pmatrix}\n",
    "=\n",
    "\\begin{pmatrix}\n",
    "8 & v & -1 \\\\\n",
    "1 & 6 & 4\n",
    "\\end{pmatrix}\n",
    "$\n",
    "  \n",
    "$\n",
    "\\begin{pmatrix}\n",
    "3x+2 & 6+4 & 9+(-10) \\\\\n",
    "-3+4 & 3y+(-12) & 12+2z\n",
    "\\end{pmatrix} \n",
    "=\n",
    "\\begin{pmatrix}\n",
    "8 & v & -1 \\\\\n",
    "1 & 6 & 4\n",
    "\\end{pmatrix}\n",
    "$\n",
    "  \n",
    "$\n",
    "\\begin{pmatrix}\n",
    "3x+2 & 10 & -1 \\\\\n",
    "1 & 3y-12 & 12+2z\n",
    "\\end{pmatrix} \n",
    "=\n",
    "\\begin{pmatrix}\n",
    "8 & v & -1 \\\\\n",
    "1 & 6 & 4\n",
    "\\end{pmatrix}\n",
    "$\n",
    "\n",
    "$3x+2 = 8$  \n",
    "$x = (8-2)/3 = 2$\n",
    "\n",
    "$3y-12 = 6$  \n",
    "$y = (6+12)/3 = 6$\n",
    "\n",
    "$12+2z = 4$  \n",
    "$z = (4-12)/2 = -4$\n",
    "\n",
    "$10 = v$  \n",
    "$v = 10$"
   ]
  },
  {
   "cell_type": "markdown",
   "id": "fe97c83c-01d3-4943-99ae-90c857d2194b",
   "metadata": {},
   "source": [
    "<div style=\"background-color: #cef7d9; padding: 10px;\"><h4>Задание 1.2 Ответ: </h4>\n",
    "$\n",
    "x = 2, y = 6, z = -4, v = 10\n",
    "$\n",
    "</div>"
   ]
  },
  {
   "cell_type": "markdown",
   "id": "2a4ac98a-171d-4ff5-9993-e2a7782067b9",
   "metadata": {},
   "source": [
    "#### 3.\n",
    "\n",
    "Укажите те значения параметров \\( p \\) и \\( q \\), при которых ранг матрицы \\( $ A = \\begin{pmatrix}\n",
    "1 & 2 & 3 \\\\\n",
    "3 & 6 & p \\\\\n",
    "5 & 10 & q\n",
    "\\end{pmatrix}$ \\) равен единице.  \n",
    "<br>"
   ]
  },
  {
   "cell_type": "markdown",
   "id": "716921d9-52ad-4df1-9c9a-faf5ea177681",
   "metadata": {},
   "source": [
    "<div style=\"background-color: #cef7d9; padding: 10px;\"><h4>Решение: </h4></div>"
   ]
  },
  {
   "cell_type": "markdown",
   "id": "540cff56-4241-4235-8372-1a0ffbd1f628",
   "metadata": {},
   "source": [
    "Что бы ранг матрицы был равен единице нужно чтобы все строки  \n",
    "или столбцы были линейно зависимы друг от друга.  \n",
    "Как видно по матрице первые два значения во второй и   \n",
    "третьей строке матрицы отличаются в 3 и 5 раз соответственно.  \n",
    "Просто домножим третье значение первой строки на 3 и на 5 соответственно.\n",
    "\n",
    "A = $\\begin{pmatrix}\n",
    "1 & 2 & 3 \\\\\n",
    "3 & 6 & 3 \\cdot 3 \\\\\n",
    "5 & 10 & 3 \\cdot 5\n",
    "\\end{pmatrix}\n",
    "= \\begin{pmatrix}\n",
    "1 & 2 & 3 \\\\\n",
    "3 & 6 & 9 \\\\\n",
    "5 & 10 & 15\n",
    "\\end{pmatrix}$\n",
    "\n",
    "Вычтем из второй строки первую, умноженную на 3  \n",
    "Вычтем из третьей строки первую, умноженную на 5\n",
    "\n",
    "$\\begin{pmatrix}\n",
    "1 & 2 & 3 \\\\\n",
    "0 & 0 & 0 \\\\\n",
    "0 & 0 & 0\n",
    "\\end{pmatrix}$\n",
    "  \n",
    "В полученной матрице только одна ненулевая строка.\n",
    "Соответсвенно ранг равен единице."
   ]
  },
  {
   "cell_type": "markdown",
   "id": "9504a77f-d2d5-4b05-be11-a9f654086f55",
   "metadata": {},
   "source": [
    "<div style=\"background-color: #cef7d9; padding: 10px;\"><h4>Задание 1.3 Ответ: </h4>\n",
    "$\n",
    "p = 9, q = 15\n",
    "$\n",
    "</div>"
   ]
  },
  {
   "cell_type": "markdown",
   "id": "fba26b7a-397d-4ca6-bd9d-eafc81d8644f",
   "metadata": {},
   "source": [
    "# Задание 4\n",
    "\n",
    "Относительно канонического (стандартного) базиса в \\($ \\mathbb{R}^2 \\ $) даны три вектора $ a_1 = (2, -5)^\\top ,$ $  a_2 = (-1, 3)^\\top $, и $ x = (1, -4)^\\top $.   \n",
    "Примите векторы $ a_1, a_2 $ за новый базис $ B $, предварительно проверив, что они линейно независимы. \n",
    "\n",
    "(a) Найдите координаты $ [x]_B $ вектора $ x $ в новом базисе.\n",
    "\n",
    "(b) Предположим, что координаты вектора $ y $ в базисе $ B $ заданы $ [y]_B = (1, 1)^\\top $.  \n",
    "Найдите координаты вектора $ y $ в стандартном базисе.\n"
   ]
  },
  {
   "cell_type": "markdown",
   "id": "dee2125c-c86f-4007-98a3-67516de019aa",
   "metadata": {},
   "source": [
    "<div style=\"background-color: #cef7d9; padding: 10px;\"><h4>Решение: </h4></div>"
   ]
  },
  {
   "cell_type": "markdown",
   "id": "14126b02-cf10-437f-8c70-d81fa212b1df",
   "metadata": {},
   "source": [
    "<div style=\"background-color: #ffe8da; padding: 10px;\">\n",
    "Вспомним формулу для вычисления детерминанта матрицы 2x2\n",
    "\n",
    "Если дана матрица $ A = \\begin{pmatrix} a & b \\\\ c & d \\end{pmatrix} $, то её детерминант $ \\text{det}(A) $ вычисляется по следующей формуле:\n",
    "$\n",
    "\\text{det}(A) = ad - bc\n",
    "$\n",
    "</div>"
   ]
  },
  {
   "cell_type": "markdown",
   "id": "6d0a8c57-ffaf-48a1-b4bb-c33bb5a9e4c7",
   "metadata": {},
   "source": [
    "Проверим, что наши вектора линейно независимы:  \n",
    "  \n",
    "$ a_1 = (2, -5)^\\top ,$ $  a_2 = (-1, 3)^\\top $  \n",
    "  \n",
    "Составим матрицу:  \n",
    "  \n",
    "$\\begin{pmatrix}\n",
    "2 & -5 \\\\\n",
    "-1 & 3\n",
    "\\end{pmatrix}$  \n",
    "  \n",
    "Вычислим детерминант:  \n",
    "  \n",
    "$ det = a \\cdot d - b \\cdot c = 2 \\cdot 3 - (-5) \\cdot (-1) = 1 $   \n",
    "\n",
    "Детерминант ненулевой -> векторы линейно независимы.  \n",
    "  \n",
    "Примем векторы $ a_1, a_2 $ за новый базис $ B: $  \n",
    "  \n",
    "$ B = \\begin{pmatrix}\n",
    "2 & -1 \\\\\n",
    "-5 & 3\n",
    "\\end{pmatrix} $  \n",
    "<br>"
   ]
  },
  {
   "cell_type": "markdown",
   "id": "69a2ba60-2235-4828-a47b-7a14b921cf49",
   "metadata": {},
   "source": [
    "<div style=\"background-color: #ffe8da; padding: 10px;\">\n",
    "Вспомним формулу для нахождения обратной матрицы:  \n",
    "\n",
    "\n",
    "Если дана матрица $ A = \\begin{pmatrix} a & b \\\\ c & d \\end{pmatrix} $, то ее обратная матрица $ A^{-1} $ вычисляется по следующей формуле:\n",
    "\n",
    "$\n",
    "A^{-1} = \\frac{1}{a \\cdot d - b \\cdot c} \\cdot \\begin{pmatrix} d & -b \\\\ -c & a \\end{pmatrix}\n",
    "$\n",
    " или \n",
    "$\n",
    "A^{-1} = \\frac{1}{det} \\cdot \\begin{pmatrix} d & -b \\\\ -c & a \\end{pmatrix}\n",
    "$  \n",
    "</div>"
   ]
  },
  {
   "cell_type": "markdown",
   "id": "6c99e0db-e760-4f6e-8544-0d52cb58f8d0",
   "metadata": {},
   "source": [
    "<div style=\"background-color: #ffe8da; padding: 10px;\">\n",
    "Вспомним две формула для перевода вектора в другой базис:  \n",
    "\n",
    "$ [x] = B \\cdot [x]_B $,  \n",
    "  \n",
    "$ [x]_B = B^{-1} \\cdot [x] $\n",
    "</div>"
   ]
  },
  {
   "cell_type": "markdown",
   "id": "acc8854c-8d48-472b-8785-1ca52cfc54af",
   "metadata": {},
   "source": [
    "(a)  \n",
    "\n",
    "$ B^{-1} = \\frac{1}{1} \\cdot \n",
    "\\begin{pmatrix}\n",
    "3 & 1 \\\\\n",
    "5 & 2\n",
    "\\end{pmatrix} = \n",
    "\\begin{pmatrix}\n",
    "3 & 1 \\\\\n",
    "5 & 2\n",
    "\\end{pmatrix}\n",
    "$  \n",
    "  \n",
    "$ [x]_B = B^{-1} \\cdot [x] = \n",
    "\\begin{pmatrix}\n",
    "3 & 1 \\\\\n",
    "5 & 2\n",
    "\\end{pmatrix}\n",
    "\\cdot\n",
    "\\begin{pmatrix}\n",
    "1 \\\\\n",
    "-4\n",
    "\\end{pmatrix} =\n",
    "\\begin{pmatrix}\n",
    "3 \\cdot 1 + 1 \\cdot (-4)\\\\\n",
    "5 \\cdot 1 + 2 \\cdot (-4)\n",
    "\\end{pmatrix} = \n",
    "\\begin{pmatrix}\n",
    "3 - 4 \\\\\n",
    "5 - 8\n",
    "\\end{pmatrix} = \n",
    "\\begin{pmatrix}\n",
    "-1 \\\\\n",
    "-3\n",
    "\\end{pmatrix}\n",
    "$  \n",
    "\n",
    "(b)  \n",
    "\n",
    "$ [y] = B \\cdot [y]_B = \n",
    "\\begin{pmatrix}\n",
    "2 & -1 \\\\\n",
    "-5 & 3\n",
    "\\end{pmatrix}\n",
    "\\cdot\n",
    "\\begin{pmatrix}\n",
    "1 \\\\\n",
    "1\n",
    "\\end{pmatrix} =\n",
    "\\begin{pmatrix}\n",
    "2 \\cdot 1 + (-1) \\cdot 1\\\\\n",
    "(-5) \\cdot 1 + 3 \\cdot 1\n",
    "\\end{pmatrix} = \n",
    "\\begin{pmatrix}\n",
    "2 - 1 \\\\\n",
    "-5 + 3\n",
    "\\end{pmatrix} = \n",
    "\\begin{pmatrix}\n",
    "1 \\\\\n",
    "-2\n",
    "\\end{pmatrix} \n",
    "$  \n",
    "<br>"
   ]
  },
  {
   "cell_type": "markdown",
   "id": "f5ec74d4-7717-45dc-972a-644dc239618e",
   "metadata": {},
   "source": [
    "<div style=\"background-color: #cef7d9; padding: 10px;\"><h4>Задание 1.4 Ответ: </h4>\n",
    "(a)\n",
    "$ [x]_B = \n",
    "\\begin{pmatrix}\n",
    "-1 \\\\\n",
    "-3\n",
    "\\end{pmatrix}\n",
    "$  \n",
    "<br><br>\n",
    "(b)\n",
    "$ [y] = \\begin{pmatrix}\n",
    "1 \\\\\n",
    "-2\n",
    "\\end{pmatrix} \n",
    "$\n",
    "</div>"
   ]
  },
  {
   "cell_type": "markdown",
   "id": "f30cdb3a-7a54-4d20-ab75-53918c7e48e8",
   "metadata": {},
   "source": [
    "# Задание 5\n",
    "\n",
    "Исследовательское задание: малоранговая аппроксимация матрицы. Сгенерируйте случайную квадратную матрицу \\( A \\in \\mathbb{R}^{n \\times n} \\), \\( n \\geq 100 \\). С помощью функции `numpy.linalg.svd` выполните сингулярное разложение этой матрицы, и получите три матрицы: \\( U \\), \\( S \\), \\( V^\\top \\). Выполняйте аппроксимацию матрицы \\( A \\) с рангом \\( r \\), меняя его значение, например, от 2 до \\( n \\):\n",
    "\n",
    "$$\n",
    "\\tilde{A} = U[:, :r] \\cdot S[:r, :r] \\cdot V^\\top[:r, :]\n",
    "$$\n",
    "\n",
    "и каждый раз считайте ошибку аппроксимации (как восстановленная матрица отличается от исходной):\n",
    "\n",
    "$$\n",
    "E(r) = ||A - \\tilde{A}||_F = \\sqrt{\\sum_{i=1}^n \\sum_{j=1}^n (a_{ij} - \\tilde{a}_{ij})^2}.\n",
    "$$\n",
    "\n",
    "Используя библиотеку `matplotlib`, постройте график зависимости ошибки аппроксимации матрицы от ранга \\( r \\).\n"
   ]
  },
  {
   "cell_type": "markdown",
   "id": "dceabf04-e12e-48d5-83a4-de36ac983589",
   "metadata": {},
   "source": [
    "<div style=\"background-color: #cef7d9; padding: 10px;\"><h4>Решение: </h4></div>"
   ]
  },
  {
   "cell_type": "code",
   "execution_count": 19,
   "id": "e6892f22-7675-4aed-baaa-50910f443fab",
   "metadata": {},
   "outputs": [],
   "source": [
    "import numpy as np\n",
    "import numpy.linalg as la\n",
    "import matplotlib.pyplot as plt\n",
    "import pandas as pd"
   ]
  },
  {
   "cell_type": "markdown",
   "id": "c565f9f1-5250-4743-865f-eeea21285108",
   "metadata": {},
   "source": [
    "Создадим пробную небольшую квадратную матрицу и посмотрим глазами на все этапы преобразований."
   ]
  },
  {
   "cell_type": "code",
   "execution_count": 20,
   "id": "60c4148d-2d35-46f0-af69-beecdc336606",
   "metadata": {},
   "outputs": [
    {
     "name": "stdout",
     "output_type": "stream",
     "text": [
      "[[0.34677139 0.66628882 0.89374459 0.55725934 0.40755515]\n",
      " [0.28497809 0.8554208  0.68673477 0.06390949 0.98922542]\n",
      " [0.89259922 0.95285659 0.25220281 0.1563561  0.02311148]\n",
      " [0.15737718 0.31371213 0.35903656 0.47167807 0.86402207]\n",
      " [0.79617373 0.3090455  0.23756051 0.69528673 0.2767088 ]]\n"
     ]
    }
   ],
   "source": [
    "n_t=5\n",
    "rng = np.random.default_rng(111111)\n",
    "A_t = rng.random((n_t,n_t))\n",
    "print(A_t)"
   ]
  },
  {
   "cell_type": "code",
   "execution_count": 21,
   "id": "ab399c41-f167-4019-aec8-04de00bf6886",
   "metadata": {},
   "outputs": [
    {
     "name": "stdout",
     "output_type": "stream",
     "text": [
      "u: [[-0.50204781 -0.06837365 -0.12280823 -0.84956135 -0.08022904]\n",
      " [-0.53983398 -0.44385716  0.47596711  0.24094262  0.47641584]\n",
      " [-0.42161602  0.67782622  0.44312619  0.16574843 -0.37277096]\n",
      " [-0.37138626 -0.42924222 -0.37009449  0.36766414 -0.63692741]\n",
      " [-0.37528582  0.39321572 -0.65195299  0.23988062  0.47112264]]\n",
      "s: [2.55620882 1.05828132 0.74507913 0.49797455 0.09862965]\n",
      "vT: [[-0.41526781 -0.55962659 -0.44920131 -0.31933994 -0.45892364]\n",
      " [ 0.66177362  0.19606601 -0.24159188  0.10436475 -0.67405872]\n",
      " [-0.11908046  0.5770875   0.05516985 -0.80070884 -0.09279819]\n",
      " [ 0.3431005  -0.02517536 -0.72902106 -0.18456119  0.5622399 ]\n",
      " [ 0.50765166 -0.56099235  0.4531403  -0.46036129  0.10153187]]\n"
     ]
    }
   ],
   "source": [
    "u_t, s_t, vT_t = np.linalg.svd(A_t)\n",
    "print(\"u:\", u_t)\n",
    "print(\"s:\", s_t)\n",
    "print(\"vT:\", vT_t)"
   ]
  },
  {
   "cell_type": "code",
   "execution_count": 22,
   "id": "42f1cfc4-4e1a-40da-a3ac-c96c6b626eca",
   "metadata": {},
   "outputs": [
    {
     "name": "stdout",
     "output_type": "stream",
     "text": [
      "[[2.55620882 0.         0.         0.         0.        ]\n",
      " [0.         1.05828132 0.         0.         0.        ]\n",
      " [0.         0.         0.74507913 0.         0.        ]\n",
      " [0.         0.         0.         0.49797455 0.        ]\n",
      " [0.         0.         0.         0.         0.09862965]]\n"
     ]
    }
   ],
   "source": [
    "Sigma_t = np.diag(s_t)\n",
    "print(Sigma_t)"
   ]
  },
  {
   "cell_type": "code",
   "execution_count": 23,
   "id": "28eaab08-8ffa-4b6f-a7e5-5349e69a75ad",
   "metadata": {},
   "outputs": [
    {
     "name": "stdout",
     "output_type": "stream",
     "text": [
      "u(r): \n",
      " [[-0.50204781 -0.06837365]\n",
      " [-0.53983398 -0.44385716]\n",
      " [-0.42161602  0.67782622]\n",
      " [-0.37138626 -0.42924222]\n",
      " [-0.37528582  0.39321572]]\n",
      "Sigma(r): \n",
      " [[2.55620882 0.        ]\n",
      " [0.         1.05828132]]\n",
      "vT(r): \n",
      " [[-0.41526781 -0.55962659 -0.44920131 -0.31933994 -0.45892364]\n",
      " [ 0.66177362  0.19606601 -0.24159188  0.10436475 -0.67405872]]\n",
      "A_r: \n",
      " [[0.48504441 0.7040036  0.59395882 0.40226973 0.63772853]\n",
      " [0.26218774 0.68014737 0.73334757 0.39164345 0.94990449]\n",
      " [0.92226077 0.74377537 0.31082029 0.41902903 0.01107662]\n",
      " [0.09361405 0.44221162 0.53619043 0.25575382 0.7418722 ]\n",
      " [0.67375586 0.61844429 0.33038851 0.34977526 0.15975157]]\n"
     ]
    }
   ],
   "source": [
    "r = 2\n",
    "A_r_t = u_t[:, :r] @ Sigma_t[:r, :r] @ vT_t[:r, :]\n",
    "print(f\"u(r): \\n {u_t[:, :r]}\")\n",
    "print(f\"Sigma(r): \\n {Sigma_t[:r, :r]}\")\n",
    "print(f\"vT(r): \\n {vT_t[:r, :]}\")\n",
    "print(f\"A_r: \\n {A_r_t}\")"
   ]
  },
  {
   "cell_type": "markdown",
   "id": "6ceb1832-9062-45b0-a94f-ce9b38c821d3",
   "metadata": {},
   "source": [
    "Посчитаем ошибку аппроксимации используя формулу и раализацию нормы Фробениуса в библиотеке linalg\n",
    "\n",
    "$$\n",
    "E(r) = ||A - \\tilde{A}||_F = \\sqrt{\\sum_{i=1}^n \\sum_{j=1}^n (a_{ij} - \\tilde{a}_{ij})^2}.\n",
    "$$"
   ]
  },
  {
   "cell_type": "code",
   "execution_count": 24,
   "id": "e1cc24d2-d99c-4144-a946-b494ff17f043",
   "metadata": {},
   "outputs": [
    {
     "name": "stdout",
     "output_type": "stream",
     "text": [
      "Ошибка аппроксимации по формуле E(r): 0.9015815946653297\n",
      "Расчетпо норме Фробениуса из linalg: 0.9015815946653296\n"
     ]
    }
   ],
   "source": [
    "difference_t = A_t - A_r_t\n",
    "\n",
    "E_r_t = np.sqrt(np.sum(difference_t**2))\n",
    "E_r_t_frobenius = np.linalg.norm(difference_t, 'fro')\n",
    "\n",
    "print(f\"Ошибка аппроксимации по формуле E(r): {E_r_t}\")\n",
    "print(f\"Расчетпо норме Фробениуса из linalg: {E_r_t_frobenius}\")"
   ]
  },
  {
   "cell_type": "markdown",
   "id": "11e2aadb-ee32-4d97-802d-02a5ff2082c4",
   "metadata": {},
   "source": [
    "<div style=\"background-color: #cef7d9; padding: 10px;\">\n",
    "Напишем код для рассчета ошибки аппроксимации для матрицы n x n и вывода графика:\n",
    "</div>"
   ]
  },
  {
   "cell_type": "code",
   "execution_count": 25,
   "id": "97c74d9a-17d6-4463-aaae-595d7e6c3e5d",
   "metadata": {},
   "outputs": [
    {
     "data": {
      "image/png": "[encoded data removed]",
      "text/plain": [
       "<Figure size 640x480 with 1 Axes>"
      ]
     },
     "metadata": {},
     "output_type": "display_data"
    }
   ],
   "source": [
    "n=100\n",
    "rng = np.random.default_rng(111111)\n",
    "A = rng.random((n,n))\n",
    "u, s, vT = np.linalg.svd(A)\n",
    "Sigma = np.diag(s)\n",
    "\n",
    "df_e = pd.DataFrame(columns=['Rank', 'Error'])\n",
    "\n",
    "def e_frobenius(r):\n",
    "    A_r = u[:, :r] @ Sigma[:r, :r] @ vT[:r, :]\n",
    "    difference = A - A_r\n",
    "    E_r_frobenius = np.linalg.norm(difference, 'fro')\n",
    "    return E_r_frobenius\n",
    "\n",
    "data = []\n",
    "for r in range(2, n + 1):\n",
    "    error = e_frobenius(r)\n",
    "    data.append([r, error])\n",
    "\n",
    "df_e = pd.DataFrame(data, columns=['Rank', 'Error'])\n",
    "plt.plot(df_e['Rank'], df_e['Error']);"
   ]
  },
  {
   "cell_type": "code",
   "execution_count": null,
   "id": "5eef1be5-d865-46bf-837c-3aa1605b757b",
   "metadata": {},
   "outputs": [],
   "source": []
  }
 ],
 "metadata": {
  "kernelspec": {
   "display_name": "Python 3 (ipykernel)",
   "language": "python",
   "name": "python3"
  },
  "language_info": {
   "codemirror_mode": {
    "name": "ipython",
    "version": 3
   },
   "file_extension": ".py",
   "mimetype": "text/x-python",
   "name": "python",
   "nbconvert_exporter": "python",
   "pygments_lexer": "ipython3",
   "version": "3.11.6"
  }
 },
 "nbformat": 4,
 "nbformat_minor": 5
}
