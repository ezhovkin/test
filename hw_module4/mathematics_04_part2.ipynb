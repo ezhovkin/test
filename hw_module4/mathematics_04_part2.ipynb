{
 "cells": [
  {
   "cell_type": "markdown",
   "id": "e796066d-9b5a-45d8-90a6-2a76b505dec3",
   "metadata": {},
   "source": [
    "## Домашнее задание.  (часть 2. начало мат.анализа и оптимизации)\n",
    "## OTUS: Basic ML"
   ]
  },
  {
   "cell_type": "markdown",
   "id": "b0cac24d-7b59-4439-8460-f63cd27cee3b",
   "metadata": {},
   "source": [
    "## Модуль 4. Теоретический минимум для ML: линейная алгебра,\n",
    "## начала мат.анализа и оптимизации."
   ]
  },
  {
   "cell_type": "markdown",
   "id": "7bb8a237-7f02-4182-9fd8-fa52d3b22096",
   "metadata": {},
   "source": [
    "### 2 Начало мат.анализа и оптимизации"
   ]
  },
  {
   "cell_type": "markdown",
   "id": "2d145578-1d9e-480c-a6f7-214b94c06323",
   "metadata": {},
   "source": [
    "#### 1. \n",
    "\n",
    "Посчитайте градиент следующей функции:\n",
    "\n",
    "$$\n",
    "f(x) = x_1^3 - 2x_1x_2 + x_2^2 - 3x_1 - 2x_2, \\quad x \\in \\mathbb{R}^2.\n",
    "$$\n",
    "\n",
    "Найдите критические точки $ x_c $, такие что $ \\nabla f(x_c) = 0 $.\n"
   ]
  },
  {
   "cell_type": "markdown",
   "id": "c4af6ce2-e9d6-430e-9d5c-78fd55bfa463",
   "metadata": {},
   "source": [
    "<div style=\"background-color: #cef7d9; padding: 10px;\"><h4>Решение: </h4></div>"
   ]
  },
  {
   "cell_type": "markdown",
   "id": "a60e0a02-dcf5-4f79-aade-d0ede17ba294",
   "metadata": {},
   "source": [
    "<div style=\"background-color: #ffe8da; padding: 10px;\">\n",
    "Вспомним формулу для вычисления градиента:\n",
    "\n",
    "$  \\nabla f(x) = \\begin{pmatrix} \\frac{\\partial f}{\\partial x_1}\\\\ ...\\\\ \\frac{\\partial f}{\\partial x_n}\n",
    "\\end{pmatrix}\n",
    "$\n",
    "</div>"
   ]
  },
  {
   "cell_type": "markdown",
   "id": "b1e55eac-379e-40dc-be21-3b291e41a696",
   "metadata": {},
   "source": [
    "<div style=\"background-color: #ffe8da; padding: 10px;\">  \n",
    "Вспомним таблицу производных:\n",
    "</div>"
   ]
  },
  {
   "cell_type": "markdown",
   "id": "7b715703-68bb-4a56-860c-8c462eda092c",
   "metadata": {},
   "source": [
    "| Функция $f(x)$            | Производная $f'(x)$               | Функция $f(g(x))$            | Производная $f'(g(x))$         |  \n",
    "|---------------------------|-----------------------------------|-----------------------------|--------------------------------|  \n",
    "| $a$                       | $0$                               | $a$                         | $0$                            |  \n",
    "| $x$                       | $1$                               | $g(x)$                      | $ g'(x) $                        |  \n",
    "| $x^n$                     | $nx^{n-1}$                        | $g(x)^n$                    | $ng(x)^{n-1} \\cdot g'(x)$      |  \n",
    "| $\\frac{1}{x}$             | $-\\frac{1}{x^2}$                  | $\\frac{1}{g(x)}$            | $-\\frac{1}{g(x)^2} \\cdot g'(x)$|  \n",
    "| $\\sqrt{x}$                | $\\frac{1}{2\\sqrt{x}}$             | $\\sqrt{g(x)}$               | $\\frac{1}{2\\sqrt{g(x)}} \\cdot g'(x)$ |  \n",
    "| $e^x$                     | $e^x$                             | $e^{g(x)}$                  | $e^{g(x)} \\cdot g'(x)$         |  \n",
    "| $a^x$                     | $a^x \\ln a$                       | $a^{g(x)}$                  | $a^{g(x)} \\ln a \\cdot g'(x)$   |  \n",
    "| $\\log_a x$                | $\\frac{1}{x \\ln a}$               | $\\log_a g(x)$               | $\\frac{1}{g(x) \\ln a} \\cdot g'(x)$ |\n",
    "| $\\ln x$                   | $\\frac{1}{x}$                     | $\\ln g(x)$                  | $\\frac{1}{g(x)} \\cdot g'(x)$   |\n",
    "| $\\sin x$                  | $\\cos x$                          | $\\sin g(x)$                 | $\\cos g(x) \\cdot g'(x)$        |\n",
    "| $\\cos x$                  | $-\\sin x$                         | $\\cos g(x)$                 | $-\\sin g(x) \\cdot g'(x)$       |  "
   ]
  },
  {
   "cell_type": "markdown",
   "id": "a71d1f54-5bd8-4ed9-9778-98f2b7320c15",
   "metadata": {},
   "source": [
    "<div style=\"background-color: #ffe8da; padding: 10px;\">  </div>"
   ]
  },
  {
   "cell_type": "markdown",
   "id": "8619d05b-7320-4222-962f-511e429a67b9",
   "metadata": {},
   "source": [
    "Возьмем частные производные:  \n",
    "\n",
    "$ \\frac{\\partial f}{\\partial x_1} =  3x_1^2 - 2x_2 - 3 $  \n",
    "\n",
    "$ \\frac{\\partial f}{\\partial x_2} =  - 2x_1 + 2x_2 - 2 $  \n",
    "\n",
    "Получим:  \n",
    "\n",
    "$  \\nabla f(x) = ( \\frac{\\partial f}{\\partial x_1} ,\n",
    "\\frac{\\partial f}{\\partial x_2} ) ^\\top = \n",
    "( ( 3x_1^2 - 2x_2 - 3 ), (- 2x_1 + 2x_2 - 2) ) ^\\top $  \n"
   ]
  },
  {
   "cell_type": "markdown",
   "id": "9223838b-71cc-460a-8922-75f714d87a79",
   "metadata": {},
   "source": [
    "Для нахождения критических точек $ x_c $, так что $ \\nabla f(x_c) = 0 $  \n",
    "\n",
    "найдем значения $ x_1, x_2 $ при которых $ \\nabla f(x) = (0,0) $\n",
    "\n",
    "Составим систему уравнений:\n",
    "\n",
    "$ 3x_1^2 - 2x_2 - 3 = 0 $  \n",
    "$ - 2x_1 + 2x_2 - 2 = 0 $  \n",
    "\n",
    "Из второго уровнения выразим $x_2$ через $x_1$:  \n",
    "$ - 2x_1 + 2x_2 - 2 = 0 $  \n",
    "$ 2x_2 = 2x_1 + 2 $  \n",
    "$ x_2 = x_1 + 1 $  \n",
    "\n",
    "И подставим значение в первое уравнение:  \n",
    "$ 3x_1^2 - 2(x_1 + 1) - 3 = 0 $  \n",
    "$ 3x_1^2 - 2x_1 - 2 - 3 = 0 $  \n",
    "$ 3x_1^2 - 2x_1 - 5 = 0 $  \n"
   ]
  },
  {
   "cell_type": "markdown",
   "id": "03616d99-bb55-435f-ba9c-c4d1b4df1cde",
   "metadata": {},
   "source": [
    "<div style=\"background-color: #ffe8da; padding: 10px;\">\n",
    "Вспомним метод решения квадратного уравнения вида через дискриминант:\n",
    "\n",
    "$ ax^2 + bx + c = 0 $\n",
    "\n",
    "Дискриминант $ D $ определяется как:\n",
    "\n",
    "$ D = b^2 - 4ac $\n",
    "\n",
    "Условия решения уравнения:\n",
    "\n",
    "1. Если $ D > 0 $ , уравнение имеет два различных вещественных корня:\n",
    "\n",
    "$ x_{1,2} = \\frac{-b \\pm \\sqrt{D}}{2a} $\n",
    "\n",
    "2. Если $ D = 0 $ , уравнение имеет один вещественный корень (два совпадающих корня):\n",
    "\n",
    "$ x = \\frac{-b}{2a} $\n",
    "\n",
    "3. Если $ D < 0 $ , уравнение не имеет вещественных корней (два комплексных корня):\n",
    "\n",
    "$ x_{1,2} = \\frac{-b \\pm i\\sqrt{D}}{2a} $  \n",
    "\n",
    "</div>"
   ]
  },
  {
   "cell_type": "markdown",
   "id": "277e5b8a-637e-4f74-a77f-47baf9d3b001",
   "metadata": {},
   "source": [
    "Подставим наши значения для:  \n",
    "$ 3x_1^2 - 2x_1 - 5 = 0 $  \n",
    "$ D = b^2 - 4ac = (-2)^2 - 4 \\cdot 3 \\cdot (-5) = 4 + 60 = 64 $  \n",
    "Дискриминант больше 0, найдем два корня:  \n",
    "$ x_{11} = \\frac{-b + \\sqrt{D}}{2a} = \\frac{ 2 + 8 }{6} = \\frac{ 10 }{ 6 } = \\frac{ 5 }{ 3 } $  \n",
    "\n",
    "$ x_{12} = \\frac{-b - \\sqrt{D}}{2a} = \\frac{ 2 - 8 }{6} = \\frac{ -6 }{ 6 } = -1 $  \n",
    "\n",
    "Найдем $ x_2 $ для каждого $ x_1 $:  \n",
    "\n",
    "$ x_{21} = x_1 + 1 = \\frac{ 5 }{ 3 } + 1 = \\frac{ 8 }{ 3 } $  \n",
    "\n",
    "$ x_{22} = x_1 + 1 = ( -1 ) + 1 = 0 $  \n",
    "\n",
    "Таким образом, критические точки функции $ f(x) $ равны:  \n",
    "$ ( \\frac{ 5 }{ 3 } , \\frac{ 8 }{ 3 } ) $ и $ ( -1 , 1 ) $  "
   ]
  },
  {
   "cell_type": "markdown",
   "id": "6a54f224-3f1f-4a40-8aa6-5eddf59f4fc6",
   "metadata": {},
   "source": [
    "<div style=\"background-color: #cef7d9; padding: 10px;\"><h4>Задание 2.1 Ответ: </h4>\n",
    "Градиент функции $ f(x) = x_1^3 - 2x_1x_2 + x_2^2 - 3x_1 - 2x_2 $:  \n",
    "    \n",
    "$  \\nabla f(x) = ( ( 3x_1^2 - 2x_2 - 3 ), (- 2x_1 + 2x_2 - 2) ) ^\\top $  \n",
    "\n",
    "Критические точки $ f(x) $ равны:  \n",
    "$ ( \\frac{ 5 }{ 3 } , \\frac{ 8 }{ 3 } ) $ и $ ( -1 , 1 ) $  \n",
    "</div>"
   ]
  },
  {
   "cell_type": "markdown",
   "id": "98f7fd4e-a11a-4336-97d4-01d593ca103c",
   "metadata": {},
   "source": [
    "#### 2.\n",
    "\n",
    "Проверьте, что функция $ f = \\ln(\\sqrt{x_1} + \\sqrt{x_2}) $ удовлетворяет уравнению:\n",
    "\n",
    "$$\n",
    "x_1 \\frac{\\partial f}{\\partial x_1} + x_2 \\frac{\\partial f}{\\partial x_2} = \\frac{1}{2}.\n",
    "$$\n"
   ]
  },
  {
   "cell_type": "markdown",
   "id": "b3b469fa-d82b-4917-85b8-c632b9cd2e19",
   "metadata": {},
   "source": [
    "<div style=\"background-color: #cef7d9; padding: 10px;\"><h4>Решение: </h4></div>"
   ]
  },
  {
   "cell_type": "markdown",
   "id": "56c76e08-e7a9-4838-918a-acb2daf49aed",
   "metadata": {},
   "source": [
    "Производная натурального логарифма сложной функции: $\\ln g(x) = \\frac{1}{g(x)} \\cdot g'(x)$  \n",
    "\n",
    "Подставим наши данные и возьмем частные производные:  \n",
    "\n",
    "$ \\frac{\\partial f}{\\partial x_1} = \\frac{1}{(\\sqrt{x_1} + \\sqrt{x_2})} \\cdot \\frac{1}{2}(\\sqrt{x_1})^{-1} =\n",
    "\\frac{1}{2 \\sqrt{x_1} (\\sqrt{x_1} + \\sqrt{x_2})}$  \n",
    "\n",
    "$ \\frac{\\partial f}{\\partial x_2} = \\frac{1}{(\\sqrt{x_1} + \\sqrt{x_2})} \\cdot \\frac{1}{2}(\\sqrt{x_2})^{-1} =\n",
    "\\frac{1}{2 \\sqrt{x_2} (\\sqrt{x_1} + \\sqrt{x_2})}$  \n",
    "\n",
    "Подставим частные производные в наше уравнение и найдем решение:  \n",
    "\n",
    "$ x_1 \\frac{\\partial f}{\\partial x_1} + x_2 \\frac{\\partial f}{\\partial x_2} =\n",
    "x_1 \\cdot \\frac{1}{2 \\sqrt{x_1} (\\sqrt{x_1} + \\sqrt{x_2})} + x_2 \\cdot \\frac{1}{2 \\sqrt{x_1} (\\sqrt{x_1} + \\sqrt{x_2})} = $  \n",
    "\n",
    "$ = \\frac{x_1}{2 \\sqrt{x_1} (\\sqrt{x_1} + \\sqrt{x_2})} + \\frac{x_2}{2 \\sqrt{x_2} (\\sqrt{x_1} + \\sqrt{x_2})} =$  \n",
    "\n",
    "Разделим числитель и знаменатель первой дроби на $ \\sqrt{x_1} $, а второй на $ \\sqrt{x_2} $ :  \n",
    "\n",
    "$ = \\frac{ \\sqrt{x_1} }{2 (\\sqrt{x_1} + \\sqrt{x_2})} + \\frac{\\sqrt{x_2}}{2 (\\sqrt{x_1} + \\sqrt{x_2})} =\n",
    "\\frac{ \\sqrt{x_1} + \\sqrt{x_2} }{2 (\\sqrt{x_1} + \\sqrt{x_2})} = \\frac{1}{2}$  \n"
   ]
  },
  {
   "cell_type": "markdown",
   "id": "16591504-739e-45e2-9257-a1544f0d6262",
   "metadata": {},
   "source": [
    "<div style=\"background-color: #cef7d9; padding: 10px;\"><h4>Задание 2.2 Ответ: </h4>\n",
    "Функция $ f = \\ln(\\sqrt{x_1} + \\sqrt{x_2}) $ удовлетворяет уравнению:\n",
    "\n",
    "$$\n",
    "x_1 \\frac{\\partial f}{\\partial x_1} + x_2 \\frac{\\partial f}{\\partial x_2} = \\frac{1}{2}.\n",
    "$$\n",
    "</div>"
   ]
  },
  {
   "cell_type": "markdown",
   "id": "be019d3c-d04e-4c2c-b1da-658ab287ac61",
   "metadata": {},
   "source": [
    "#### 3.\n",
    "\n",
    "Предположим, задана функция $ f : \\mathbb{R}^3 \\to \\mathbb{R}^2 $:  \n",
    "\n",
    "$$\n",
    "f(x, y, z) = (x + y + z, xyz)^\\top.\n",
    "$$\n",
    "\n",
    "Найдите матрицу Якоби $ J_f $ функции $ f $, и её численное значение в точке $ v = (1, 2, 3)^\\top $.\n"
   ]
  },
  {
   "cell_type": "markdown",
   "id": "25c8a3ad-8ec5-4949-8017-9116f652d3ac",
   "metadata": {},
   "source": [
    "<div style=\"background-color: #cef7d9; padding: 10px;\"><h4>Решение: </h4></div>"
   ]
  },
  {
   "cell_type": "markdown",
   "id": "8e577004-329d-40b7-801e-7119d096be37",
   "metadata": {},
   "source": [
    "<div style=\"background-color: #ffe8da; padding: 10px;\">  \n",
    "Для системы функций $ f_1, \\ldots, f_n $ и переменных $ x_1, \\ldots, x_m $ матрица Якоби $ J $ определяется как:\n",
    "\n",
    "$$\n",
    "J =\n",
    "\\begin{pmatrix}\n",
    "\\frac{\\partial f_1}{\\partial x_1} & \\frac{\\partial f_1}{\\partial x_2} & \\cdots & \\frac{\\partial f_1}{\\partial x_m} \\\\\n",
    "\\frac{\\partial f_2}{\\partial x_1} & \\frac{\\partial f_2}{\\partial x_2} & \\cdots & \\frac{\\partial f_2}{\\partial x_m} \\\\\n",
    "\\vdots & \\vdots & \\ddots & \\vdots \\\\\n",
    "\\frac{\\partial f_n}{\\partial x_1} & \\frac{\\partial f_n}{\\partial x_2} & \\cdots & \\frac{\\partial f_n}{\\partial x_m}\n",
    "\\end{pmatrix}\n",
    "$$\n",
    "\n",
    "где элемент $ (i, j) $ матрицы Якоби является частной производной функции $ f_i $ по переменной $ x_j $.\n",
    "</div>"
   ]
  },
  {
   "cell_type": "markdown",
   "id": "05f16c1e-5415-42e9-b548-e366678b8050",
   "metadata": {},
   "source": [
    "Подставим наши функции и найдем частные производные по каждой переменной:\n",
    "\n",
    "$\n",
    "J = \\begin{pmatrix}\n",
    "\\frac{\\partial f_1}{\\partial x} & \\frac{\\partial f_1}{\\partial y} & \\frac{\\partial f_1}{\\partial z} \\\\\n",
    "\\frac{\\partial f_2}{\\partial x} & \\frac{\\partial f_2}{\\partial y} & \\frac{\\partial f_2}{\\partial z}\n",
    "\\end{pmatrix} =\n",
    "\\begin{pmatrix}\n",
    "1 & 1 & 1 \\\\\n",
    "yz & xz & xy\n",
    "\\end{pmatrix}\n",
    "$  \n",
    "\n",
    "Найдем значение в точке $ v = (1, 2, 3)^\\top $:  \n",
    "\n",
    "$\\begin{pmatrix}\n",
    "1 & 1 & 1 \\\\\n",
    "2 \\cdot 3 & 1 \\cdot 3 & 1 \\cdot 2\n",
    "\\end{pmatrix} =\n",
    "\\begin{pmatrix}\n",
    "1 & 1 & 1 \\\\\n",
    "6 & 3 & 2\n",
    "\\end{pmatrix}\n",
    "$"
   ]
  },
  {
   "cell_type": "markdown",
   "id": "3606908c-3d13-4b80-805e-4984f6a94b49",
   "metadata": {},
   "source": [
    "<div style=\"background-color: #cef7d9; padding: 10px;\"><h4>Задание 2.3 Ответ: </h4>\n",
    "Матрица Якоби функции $ f(x, y, z) = (x + y + z, xyz)^\\top $:  \n",
    "\n",
    "$\n",
    "J = \\begin{pmatrix}\n",
    "1 & 1 & 1 \\\\\n",
    "yz & xz & xy\n",
    "\\end{pmatrix}\n",
    "$  \n",
    "\n",
    "Численное значение:  \n",
    "\n",
    "$\n",
    "\\begin{pmatrix}\n",
    "1 & 1 & 1 \\\\\n",
    "6 & 3 & 2\n",
    "\\end{pmatrix}\n",
    "$  \n",
    "</div>"
   ]
  },
  {
   "cell_type": "markdown",
   "id": "d292534b-d75e-4c5d-99ec-64e88701a33c",
   "metadata": {},
   "source": [
    "#### 4.\n",
    "\n",
    "(Куб евклидовой нормы). Найдите первый дифференциал $ df(x) $ и градиент $ \\nabla f(x) $ функции:\n",
    "\n",
    "$$\n",
    "f(x) = \\frac{1}{3} ||x||_2^3, \\quad x \\in \\mathbb{R}^n \\setminus \\{0\\}.\n",
    "$$"
   ]
  },
  {
   "cell_type": "markdown",
   "id": "23d7b577-0e3b-4549-a522-3a0c73addf93",
   "metadata": {},
   "source": [
    "<div style=\"background-color: #cef7d9; padding: 10px;\"><h4>Решение: </h4></div>"
   ]
  },
  {
   "cell_type": "markdown",
   "id": "69b7cc19-c462-4adf-902a-e1c433a186d7",
   "metadata": {},
   "source": [
    "<div style=\"background-color: #ffe8da; padding: 10px;\">\n",
    "Вспомним что такое Евклидова норма:  \n",
    "\n",
    "$ \\|x\\|_2 = \\sqrt{x_1^2 + x_2^2 + \\cdots + x_n^2} $  \n",
    "</div>"
   ]
  },
  {
   "cell_type": "markdown",
   "id": "fe83e61e-65be-4a87-aa9c-0ff4808248b8",
   "metadata": {},
   "source": [
    "Разложим нашу функцию:\n",
    "\n",
    "$ f(x) = \\frac{1}{3} ||x||_2^3 = \n",
    "\\frac{1}{3} ( \\sqrt{x_1^2 + x_2^2 + \\cdots + x_n^2} )^3 $  \n",
    "\n",
    "Градиент функции:  \n",
    "\n",
    "$  \\nabla f(x) =\n",
    "\\begin{pmatrix} \\frac{\\partial f}{\\partial x_1}\n",
    "\\\\ \\frac{\\partial f}{\\partial x_2}\n",
    "\\\\ \\cdots \\\\\n",
    "\\frac{\\partial f}{\\partial x_n}\n",
    "\\end{pmatrix}\n",
    "$  \n",
    "\n",
    "Найдем частную производную по $ x_i $:  \n",
    "\n",
    "$\\frac{\\partial f}{\\partial x_i} = \n",
    "\\frac{1}{3} \\cdot 3 \\cdot ( \\sqrt{x_1^2 + x_2^2 + \\cdots + x_n^2} )^2 \\cdot ( \\sqrt{x_1^2 + x_2^2 + \\cdots + x_n^2} )'_{x_i} =\n",
    "$  \n",
    "\n",
    "$ = ( \\sqrt{x_1^2 + x_2^2 + \\cdots + x_n^2} )^2 \\cdot \\frac{1}{2} \\cdot \\frac{1}{\\sqrt{x_1^2 + x_2^2 + \\cdots + x_n^2}}\n",
    "\\cdot ( x_1^2 + x_2^2 + \\cdots + x_n^2 )'_{x_i} =\n",
    "$  \n",
    "\n",
    "$ = ( \\sqrt{x_1^2 + x_2^2 + \\cdots + x_n^2} )^2 \\cdot \\frac{1}{2} \\cdot \\frac{1}{\\sqrt{x_1^2 + x_2^2 + \\cdots + x_n^2}}\n",
    "\\cdot 2x_i =\n",
    "$  \n",
    "\n",
    "$ = ( \\sqrt{x_1^2 + x_2^2 + \\cdots + x_n^2} )^2 \\cdot \\frac{x_i}{\\sqrt{x_1^2 + x_2^2 + \\cdots + x_n^2}} =\n",
    "$  \n",
    "\n",
    "$ = \\sqrt{x_1^2 + x_2^2 + \\cdots + x_n^2} \\cdot x_i = \\|x\\|_2 \\cdot x_i\n",
    "$  \n",
    "\n",
    "Частная производная по остальным x будет иметь аналогичный вид, значит:  \n",
    "\n",
    "$  \\nabla f(x) = (\\|x\\|_2 \\cdot x_1, \\|x\\|_2 \\cdot x_2, \\cdots, \\|x\\|_2 \\cdot x_n) ^\\top = \\|x\\|_2 \\cdot x\n",
    "$"
   ]
  },
  {
   "cell_type": "markdown",
   "id": "13aab4da-c47c-46a6-854b-d66f5ede64a0",
   "metadata": {},
   "source": [
    "<div style=\"background-color: #ffe8da; padding: 10px;\">\n",
    "Вспомним формулу дифференциала через градиент:  \n",
    "\n",
    "$ df(x) = ( \\nabla f(x) )^\\top \\cdot dx $  \n",
    "</div>"
   ]
  },
  {
   "cell_type": "markdown",
   "id": "7c17547a-3bef-4f0b-8a4b-f18241d7be5e",
   "metadata": {},
   "source": [
    "Подставим наши значения:  \n",
    "\n",
    "$ df(x) = ( \\|x\\|_2 \\cdot x ) ^\\top \\cdot dx  =  \\|x\\|_2 \\cdot x ^\\top \\cdot dx$  \n",
    "\n",
    "Для понимания можем разложить это выражение:  \n",
    "\n",
    "$ df(x) = \\|x\\|_2 \\cdot ( x_1dx_1 + x_2dx_2 + \\cdots + x_ndx_n ) $"
   ]
  },
  {
   "cell_type": "markdown",
   "id": "e49e7f4f-b7c6-4164-8d9e-f52db483d450",
   "metadata": {},
   "source": [
    "<div style=\"background-color: #cef7d9; padding: 10px;\"><h4>Задание 2.4 Ответ: </h4>\n",
    "Градиент функции $ f(x) = \\frac{1}{3} ||x||_2^3 $ :  \n",
    "\n",
    "$  \\nabla f(x) = \\|x\\|_2 \\cdot x\n",
    "$ \n",
    "\n",
    "Первый дифференциал:  \n",
    "\n",
    "$ df(x) = \\|x\\|_2 \\cdot ( x_1dx_1 + x_2dx_2 + \\cdots + x_ndx_n )\n",
    "$  \n",
    "</div>"
   ]
  },
  {
   "cell_type": "markdown",
   "id": "921d83c0-9fa5-49a0-9d26-63d1449e2dc7",
   "metadata": {},
   "source": [
    "#### 5.\n",
    "\n",
    "(Евклидова норма). Найдите первый дифференциал $ df(x) $ и градиент $ \\nabla f(x) $ функции:\n",
    "\n",
    "$$\n",
    "f(x) = \\|x\\|_2, \\quad x \\in \\mathbb{R}^n \\setminus \\{0\\}.\n",
    "$$"
   ]
  },
  {
   "cell_type": "markdown",
   "id": "f1011c83-9c32-4629-bb22-ca43ac2d8ade",
   "metadata": {},
   "source": [
    "Разложим функцию:  \n",
    "\n",
    "$ f(x) = \\|x\\|_2 = \\sqrt{x_1^2 + x_2^2 + \\cdots + x_n^2}\n",
    "$  \n",
    "\n",
    "Найдем частную производную по $ x_i $, для нахождения градиента:  \n",
    "\n",
    "$\\frac{\\partial f}{\\partial x_i} =\n",
    "\\frac{1}{2} \\cdot \\frac{1}{\\sqrt{x_1^2 + x_2^2 + \\cdots + x_n^2}}\n",
    "\\cdot ( x_1^2 + x_2^2 + \\cdots + x_n^2 )'_{x_i} =\n",
    "$  \n",
    "\n",
    "$ = \\frac{1}{2} \\cdot \\frac{1}{\\sqrt{x_1^2 + x_2^2 + \\cdots + x_n^2}} \\cdot 2x_i =\n",
    "\\frac{x_i}{\\sqrt{x_1^2 + x_2^2 + \\cdots + x_n^2}} = \n",
    "$  \n",
    "\n",
    "$ = \\frac{x_i}{\\|x\\|_2}\n",
    "$  \n",
    "\n",
    "Частная производная по остальным x будет иметь аналогичный вид, значит градиент:  \n",
    "\n",
    "$  \\nabla f(x) = ( \\frac{x_1}{\\|x\\|_2}, \\frac{x_2}{\\|x\\|_2}, \\cdots, \\frac{x_n}{\\|x\\|_2} ) ^\\top =\n",
    "\\frac{x}{\\|x\\|_2}\n",
    "$  \n",
    "\n",
    "Найдем дифференциал:  \n",
    "\n",
    "$ df(x) = ( \\frac{x}{\\|x\\|_2} ) ^\\top \\cdot dx  = \\frac{x ^\\top \\cdot dx}{\\|x\\|_2} $  \n",
    "\n",
    "Для понимания можем разложить это выражение:  \n",
    "\n",
    "$ df(x) = \\frac{ ( x_1dx_1 + x_2dx_2 + \\cdots + x_ndx_n ) }{ \\|x\\|_2 }  $"
   ]
  },
  {
   "cell_type": "markdown",
   "id": "305340ad-be04-4ebd-b823-a461e374b8ff",
   "metadata": {},
   "source": [
    "<div style=\"background-color: #cef7d9; padding: 10px;\"><h4>Задание 2.5 Ответ: </h4>\n",
    "Градиент функции $ f(x) = \\|x\\|_2 $:  \n",
    "\n",
    "$  \\nabla f(x) = \\frac{x}{\\|x\\|_2}\n",
    "$ \n",
    "\n",
    "Первый дифференциал:  \n",
    "\n",
    "$ df(x) = \\frac{ ( x_1dx_1 + x_2dx_2 + \\cdots + x_ndx_n ) }{ \\|x\\|_2 }  $  \n",
    "</div>"
   ]
  },
  {
   "cell_type": "markdown",
   "id": "8746ba95-9cd0-467c-a1be-76ee812477dd",
   "metadata": {},
   "source": [
    "#### 6.\n",
    "\n",
    "Найдите первый дифференциал $ df(x) $ и градиент $ \\nabla f(x) $ функции:\n",
    "\n",
    "$$\n",
    "f(x) = \\|Ax\\|_2, \\quad x \\in \\mathbb{R}^n \\setminus \\{0\\}, \\quad A \\in \\mathbb{R}^{m \\times n}.\n",
    "$$"
   ]
  },
  {
   "cell_type": "markdown",
   "id": "30d8c4f7-1dee-4355-83e0-dc1706661b0f",
   "metadata": {},
   "source": [
    "Вспомним выражение евклидовой нормы через произведение векторов"
   ]
  },
  {
   "cell_type": "markdown",
   "id": "f35e7965-84f5-474c-8128-5d3cac51bd2e",
   "metadata": {},
   "source": [
    "Выразим евклидову норму через произведение векторов:  \n",
    "\n",
    "$ f(x) = \\|Ax\\|_2 =\n",
    "\\sqrt {(Ax) ^\\top \\cdot (Ax)}$  \n",
    "\n",
    "Найдем дифференциал:  \n",
    "\n",
    "$ df(x) = d ( \\sqrt {(Ax) ^\\top \\cdot (Ax)} ) =\n",
    "\\frac{1}{ 2 \\cdot \\sqrt {(Ax) ^\\top \\cdot (Ax)}} \\cdot d((Ax) ^\\top \\cdot (Ax)) $  \n",
    "\n",
    "Для удобства посчитаем отдельно:    \n",
    "\n",
    "$ d((Ax) ^\\top \\cdot (Ax)) =\n",
    "d(Ax) ^\\top \\cdot (Ax) + (Ax) ^\\top \\cdot d(Ax) = $  \n",
    "\n",
    "$ = (d(Ax)) ^\\top \\cdot (Ax) + (Ax) ^\\top \\cdot d(Ax) = $  \n",
    "\n",
    "$ = (Adx) ^\\top \\cdot (Ax) + (Ax) ^\\top \\cdot (Adx) = $  \n",
    "\n",
    "$ =  (Ax) ^\\top \\cdot (Adx) + (Ax) ^\\top \\cdot (Adx) = $  \n",
    "\n",
    "$ =  2(Ax) ^\\top \\cdot A \\cdot dx $  \n",
    "\n",
    "Подставим обратно и найдем дифференциал:  \n",
    "\n",
    "$ df(x) = \\frac{1}{ 2 \\cdot \\sqrt {(Ax) ^\\top \\cdot (Ax)}} \\cdot 2(Ax) ^\\top \\cdot A \\cdot dx  \n",
    "= \\frac{(Ax) ^\\top \\cdot A \\cdot dx}{ \\sqrt {(Ax) ^\\top \\cdot (Ax)}} =\n",
    "$  \n",
    "\n",
    "$ = \\frac{(Ax) ^\\top \\cdot A \\cdot dx}{ \\|Ax\\|_2 }  \n",
    "$  \n",
    "\n",
    "Найдем градиент:\n",
    "\n",
    "$ \\nabla f(x) = (\\frac{(Ax) ^\\top \\cdot A}{ \\|Ax\\|_2 }) ^\\top = \\frac{A ^\\top \\cdot Ax }{ \\|Ax\\|_2 } $  \n"
   ]
  },
  {
   "cell_type": "markdown",
   "id": "11ff591c-44bd-479c-bf97-7cf94a8304ba",
   "metadata": {},
   "source": [
    "<div style=\"background-color: #cef7d9; padding: 10px;\"><h4>Задание 2.6 Ответ: </h4>\n",
    "Первый дифференциал функции $ f(x) = \\|Ax\\|_2 $:  \n",
    "\n",
    "$ df(x) = \\frac{(Ax) ^\\top \\cdot A \\cdot dx}{ \\|Ax\\|_2 } $  \n",
    "\n",
    "Градиент $ \\nabla f(x) $:  \n",
    "\n",
    "$ \\nabla f(x) = \\frac{A ^\\top \\cdot Ax }{ \\|Ax\\|_2 }\n",
    "$ \n",
    "\n",
    "</div> "
   ]
  },
  {
   "cell_type": "markdown",
   "id": "8a6562ac-39e1-4f3b-819d-8e99431ad2d0",
   "metadata": {},
   "source": [
    "#### 7.\n",
    "\n",
    "Найдите первый дифференциал $ df(x) $ и градиент $ \\nabla f(x) $ функции:\n",
    "\n",
    "$$\n",
    "f(x) = -e^{-x^\\top x}, \\quad x \\in \\mathbb{R}^n.\n",
    "$$"
   ]
  },
  {
   "cell_type": "markdown",
   "id": "898b0064-b7de-4836-ace2-96a3cc959e47",
   "metadata": {},
   "source": [
    "<div style=\"background-color: #ffe8da; padding: 10px;\">\n",
    "Вспомним формулу производной сложной функции числа e:  \n",
    "\n",
    "$f'(e^{g(x)}) = e^{g(x)} \\cdot g'(x)$ \n",
    "</div>"
   ]
  },
  {
   "cell_type": "markdown",
   "id": "4973c989-3fa1-4b3f-bf12-227764d8ad3c",
   "metadata": {},
   "source": [
    "Производная функции:  \n",
    "\n",
    "$f'(x) = -e^{-x ^\\top x} \\cdot (-x ^\\top x)'_x =\n",
    "e^{-x ^\\top x} \\cdot (x ^\\top x)'_x =\n",
    "e^{-\\|x\\|_2} \\cdot (\\|x\\|_2^2)'_x $  \n",
    "\n",
    "Разложим и найдем частную производную:  \n",
    "\n",
    "$e^{-\\|x\\|_2} \\cdot (x ^\\top x)'_{x_i} = e^{-\\|x\\|_2} \\cdot (( \\sqrt{x_1^2 + x_2^2 + \\cdots + x_n^2} )^2)'_{x_i} = e^{-\\|x\\|_2} \\cdot  2x_i $  \n",
    "\n",
    "Соответственно градиент функции:\n",
    "\n",
    "$ \\nabla {f(x)} = 2e^{-\\|x\\|_2}x $  \n",
    "\n",
    "Найдем дифференциал:  \n",
    "\n",
    "$ df(x) = (2e^{-\\|x\\|_2}x) ^\\top \\cdot dx = 2e^{-\\|x\\|_2} x ^ \\top dx $"
   ]
  },
  {
   "cell_type": "markdown",
   "id": "3dc4049f-6e1c-4e58-92dd-7d12fef4d97f",
   "metadata": {},
   "source": [
    "<div style=\"background-color: #cef7d9; padding: 10px;\"><h4>Задание 2.7 Ответ: </h4>\n",
    "Градиент функции $ f(x) = -e^{-x^\\top x} $:  \n",
    "\n",
    "$ \\nabla {f(x)} = 2e^{-\\|x\\|_2}x\n",
    "$ \n",
    "\n",
    "Первый дифференциал:  \n",
    "\n",
    "$ df(x) = 2e^{-\\|x\\|_2} x ^ \\top dx $  \n",
    "</div>"
   ]
  },
  {
   "cell_type": "code",
   "execution_count": null,
   "id": "5eef1be5-d865-46bf-837c-3aa1605b757b",
   "metadata": {},
   "outputs": [],
   "source": []
  }
 ],
 "metadata": {
  "kernelspec": {
   "display_name": "Python 3 (ipykernel)",
   "language": "python",
   "name": "python3"
  },
  "language_info": {
   "codemirror_mode": {
    "name": "ipython",
    "version": 3
   },
   "file_extension": ".py",
   "mimetype": "text/x-python",
   "name": "python",
   "nbconvert_exporter": "python",
   "pygments_lexer": "ipython3",
   "version": "3.11.6"
  }
 },
 "nbformat": 4,
 "nbformat_minor": 5
}
